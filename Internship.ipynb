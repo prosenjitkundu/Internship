{
 "cells": [
  {
   "cell_type": "markdown",
   "metadata": {},
   "source": [
    "# Required Package"
   ]
  },
  {
   "cell_type": "code",
   "execution_count": 1,
   "metadata": {
    "execution": {
     "iopub.execute_input": "2022-08-23T16:38:51.342833Z",
     "iopub.status.busy": "2022-08-23T16:38:51.342307Z",
     "iopub.status.idle": "2022-08-23T16:38:52.438475Z",
     "shell.execute_reply": "2022-08-23T16:38:52.437415Z",
     "shell.execute_reply.started": "2022-08-23T16:38:51.342714Z"
    }
   },
   "outputs": [],
   "source": [
    "# importing required libraries\n",
    "import numpy as np\n",
    "import pandas as pd\n",
    "\n",
    "import pickle # saving and loading trained model\n",
    "from os import path\n",
    "# importing required libraries for normalizing data\n",
    "from sklearn import preprocessing\n",
    "from sklearn.preprocessing import (StandardScaler, OrdinalEncoder,LabelEncoder, MinMaxScaler, OneHotEncoder)\n",
    "from sklearn.feature_extraction.text import CountVectorizer\n",
    "from sklearn.preprocessing import Normalizer, MaxAbsScaler , RobustScaler, PowerTransformer\n",
    "\n",
    "# importing library for plotting\n",
    "import matplotlib.pyplot as plt\n",
    "#plt.rcParams.update({'font.size': 22})\n",
    "\n",
    "import seaborn as sns\n",
    "import joblib\n",
    "from sklearn.ensemble import RandomForestRegressor, RandomForestClassifier\n",
    "from mlxtend.feature_selection import SequentialFeatureSelector as SFS # for feature selection \n",
    "\n",
    "# importing library for support vector machine classifier\n",
    "from sklearn.svm import SVC\n",
    "# importing library for K-neares-neighbor classifier\n",
    "from sklearn.neighbors import KNeighborsClassifier\n",
    "# importing library for Linear Discriminant Analysis Model\n",
    "from sklearn.discriminant_analysis import LinearDiscriminantAnalysis\n",
    "# importing library for Quadratic Discriminant Analysis Model\n",
    "from sklearn.discriminant_analysis import QuadraticDiscriminantAnalysis\n",
    "\n",
    "from sklearn import metrics\n",
    "from sklearn.metrics import accuracy_score # for calculating accuracy of model\n",
    "from sklearn.model_selection import train_test_split # for splitting the dataset for training and testing\n",
    "from sklearn.metrics import classification_report # for generating a classification report of model\n",
    "\n",
    "from sklearn.metrics import precision_score\n",
    "from sklearn.metrics import recall_score\n",
    "from sklearn.metrics import f1_score"
   ]
  },
  {
   "cell_type": "code",
   "execution_count": 13,
   "metadata": {
    "execution": {
     "iopub.execute_input": "2022-08-23T16:53:18.606160Z",
     "iopub.status.busy": "2022-08-23T16:53:18.604917Z",
     "iopub.status.idle": "2022-08-23T16:53:18.614159Z",
     "shell.execute_reply": "2022-08-23T16:53:18.612523Z",
     "shell.execute_reply.started": "2022-08-23T16:53:18.606108Z"
    }
   },
   "outputs": [],
   "source": [
    "train = '../input/kddinternass/KDDTrain.txt/KDDTrain+.txt'"
   ]
  },
  {
   "cell_type": "code",
   "execution_count": 14,
   "metadata": {
    "execution": {
     "iopub.execute_input": "2022-08-23T16:53:19.916890Z",
     "iopub.status.busy": "2022-08-23T16:53:19.915823Z",
     "iopub.status.idle": "2022-08-23T16:53:19.932513Z",
     "shell.execute_reply": "2022-08-23T16:53:19.930643Z",
     "shell.execute_reply.started": "2022-08-23T16:53:19.916816Z"
    }
   },
   "outputs": [],
   "source": [
    "feature=[\"duration\",\"protocol_type\",\"service\",\"flag\",\"src_bytes\",\"dst_bytes\",\"land\",\"wrong_fragment\",\"urgent\",\"hot\",\n",
    "          \"num_failed_logins\",\"logged_in\",\"num_compromised\",\"root_shell\",\"su_attempted\",\"num_root\",\"num_file_creations\",\"num_shells\",\n",
    "          \"num_access_files\",\"num_outbound_cmds\",\"is_host_login\",\"is_guest_login\",\"count\",\"srv_count\",\"serror_rate\",\"srv_serror_rate\",\n",
    "          \"rerror_rate\",\"srv_rerror_rate\",\"same_srv_rate\",\"diff_srv_rate\",\"srv_diff_host_rate\",\"dst_host_count\",\"dst_host_srv_count\", \n",
    "          \"dst_host_same_srv_rate\",\"dst_host_diff_srv_rate\",\"dst_host_same_src_port_rate\",\"dst_host_srv_diff_host_rate\",\"dst_host_serror_rate\",\n",
    "          \"dst_host_srv_serror_rate\",\"dst_host_rerror_rate\",\"dst_host_srv_rerror_rate\",\"label\",\"difficulty\"]\n",
    "\n",
    "flag=['OTH','RSTOS0','SF','SH','RSTO','S2','S1','REJ','S3','RSTR','S0']\n",
    "\n",
    "protocol_type=['tcp','udp','icmp']\n",
    "\n",
    "service=['http','smtp','finger','domain_u','auth','telnet','ftp','eco_i','ntp_u','ecr_i','other','private','pop_3','ftp_data',\n",
    "                  'rje','time','mtp','link','remote_job','gopher','ssh','name','whois','domain','login','imap4','daytime','ctf','nntp',\n",
    "                  'shell','IRC','nnsp','http_443','exec','printer','efs','courier','uucp','klogin','kshell','echo','discard','systat',\n",
    "                  'supdup','iso_tsap','hostnames','csnet_ns','pop_2','sunrpc','uucp_path','netbios_ns','netbios_ssn','netbios_dgm',\n",
    "                  'sql_net','vmnet','bgp','Z39_50','ldap','netstat','urh_i','X11','urp_i','pm_dump','tftp_u','tim_i','red_i','icmp',\n",
    "                  'http_2784','harvest','aol','http_8001']\n",
    "\n",
    "binary_attack=['normal','ipsweep', 'nmap', 'portsweep','satan', 'saint', 'mscan','back', 'land', 'neptune', 'pod', 'smurf',\n",
    "               'teardrop', 'apache2', 'udpstorm', 'processtable','mailbomb','buffer_overflow', 'loadmodule', 'perl', 'rootkit',\n",
    "               'xterm', 'ps', 'sqlattack','ftp_write', 'guess_passwd', 'imap', 'multihop','phf', 'spy', 'warezclient',\n",
    "               'warezmaster','snmpgetattack','named', 'xlock', 'xsnoop','sendmail', 'httptunnel', 'worm', 'snmpguess']\n",
    "\n",
    "multiclass_attack={ 'normal': 'normal',\n",
    "        'probe': ['ipsweep.', 'nmap.', 'portsweep.','satan.', 'saint.', 'mscan.'],\n",
    "        'dos': ['back.', 'land.', 'neptune.', 'pod.', 'smurf.','teardrop.', 'apache2.', 'udpstorm.', 'processtable.','mailbomb.'],\n",
    "        'u2r': ['buffer_overflow.', 'loadmodule.', 'perl.', 'rootkit.','xterm.', 'ps.', 'sqlattack.'],\n",
    "        'r2l': ['ftp_write.', 'guess_passwd.', 'imap.', 'multihop.','phf.', 'spy.', 'warezclient.', 'warezmaster.','snmpgetattack.',\n",
    "                   'named.', 'xlock.', 'xsnoop.','sendmail.', 'httptunnel.', 'worm.', 'snmpguess.']}  "
   ]
  },
  {
   "cell_type": "code",
   "execution_count": 15,
   "metadata": {
    "execution": {
     "iopub.execute_input": "2022-08-23T16:53:20.446093Z",
     "iopub.status.busy": "2022-08-23T16:53:20.445599Z",
     "iopub.status.idle": "2022-08-23T16:53:21.380594Z",
     "shell.execute_reply": "2022-08-23T16:53:21.378922Z",
     "shell.execute_reply.started": "2022-08-23T16:53:20.446053Z"
    }
   },
   "outputs": [],
   "source": [
    "train_data=pd.read_csv(train,names=feature)"
   ]
  },
  {
   "cell_type": "code",
   "execution_count": 16,
   "metadata": {
    "execution": {
     "iopub.execute_input": "2022-08-23T16:53:24.258734Z",
     "iopub.status.busy": "2022-08-23T16:53:24.258289Z",
     "iopub.status.idle": "2022-08-23T16:53:24.289676Z",
     "shell.execute_reply": "2022-08-23T16:53:24.288399Z",
     "shell.execute_reply.started": "2022-08-23T16:53:24.258701Z"
    }
   },
   "outputs": [],
   "source": [
    "train_data.head(2)"
   ]
  },
  {
   "cell_type": "markdown",
   "metadata": {},
   "source": [
    "# Understanding dataset"
   ]
  },
  {
   "cell_type": "code",
   "execution_count": 17,
   "metadata": {
    "execution": {
     "iopub.execute_input": "2022-08-23T16:53:25.911084Z",
     "iopub.status.busy": "2022-08-23T16:53:25.909415Z",
     "iopub.status.idle": "2022-08-23T16:53:25.962272Z",
     "shell.execute_reply": "2022-08-23T16:53:25.960948Z",
     "shell.execute_reply.started": "2022-08-23T16:53:25.911021Z"
    }
   },
   "outputs": [],
   "source": [
    "train_data.info()"
   ]
  },
  {
   "cell_type": "code",
   "execution_count": 18,
   "metadata": {
    "execution": {
     "iopub.execute_input": "2022-08-23T16:53:28.465654Z",
     "iopub.status.busy": "2022-08-23T16:53:28.464717Z",
     "iopub.status.idle": "2022-08-23T16:53:28.490397Z",
     "shell.execute_reply": "2022-08-23T16:53:28.488423Z",
     "shell.execute_reply.started": "2022-08-23T16:53:28.465609Z"
    }
   },
   "outputs": [],
   "source": [
    "train_data.drop(['difficulty'],axis=1,inplace=True)\n",
    "train_data.shape"
   ]
  },
  {
   "cell_type": "code",
   "execution_count": 19,
   "metadata": {
    "execution": {
     "iopub.execute_input": "2022-08-23T16:54:33.012142Z",
     "iopub.status.busy": "2022-08-23T16:54:33.010939Z",
     "iopub.status.idle": "2022-08-23T16:54:33.330043Z",
     "shell.execute_reply": "2022-08-23T16:54:33.328162Z",
     "shell.execute_reply.started": "2022-08-23T16:54:33.012091Z"
    }
   },
   "outputs": [],
   "source": [
    "train_data.describe().T"
   ]
  },
  {
   "cell_type": "code",
   "execution_count": 20,
   "metadata": {
    "execution": {
     "iopub.execute_input": "2022-08-23T16:55:30.823074Z",
     "iopub.status.busy": "2022-08-23T16:55:30.822541Z",
     "iopub.status.idle": "2022-08-23T16:55:30.844011Z",
     "shell.execute_reply": "2022-08-23T16:55:30.842311Z",
     "shell.execute_reply.started": "2022-08-23T16:55:30.823036Z"
    }
   },
   "outputs": [],
   "source": [
    "# number of attack labels \n",
    "train_data['label'].value_counts()"
   ]
  },
  {
   "cell_type": "markdown",
   "metadata": {},
   "source": [
    "# Data Analysis"
   ]
  },
  {
   "cell_type": "code",
   "execution_count": 21,
   "metadata": {
    "execution": {
     "iopub.execute_input": "2022-08-23T16:59:29.655140Z",
     "iopub.status.busy": "2022-08-23T16:59:29.653032Z",
     "iopub.status.idle": "2022-08-23T16:59:29.679606Z",
     "shell.execute_reply": "2022-08-23T16:59:29.677454Z",
     "shell.execute_reply.started": "2022-08-23T16:59:29.655054Z"
    }
   },
   "outputs": [],
   "source": [
    "# number of attack labels \n",
    "train_data['label'].value_counts()"
   ]
  },
  {
   "cell_type": "code",
   "execution_count": 22,
   "metadata": {
    "execution": {
     "iopub.execute_input": "2022-08-23T17:01:01.731240Z",
     "iopub.status.busy": "2022-08-23T17:01:01.730616Z",
     "iopub.status.idle": "2022-08-23T17:01:02.197688Z",
     "shell.execute_reply": "2022-08-23T17:01:02.196159Z",
     "shell.execute_reply.started": "2022-08-23T17:01:01.731195Z"
    }
   },
   "outputs": [],
   "source": [
    "train_data['label'].value_counts().plot(kind=\"bar\")"
   ]
  },
  {
   "cell_type": "markdown",
   "metadata": {},
   "source": [
    "**Marge into four different classes**"
   ]
  },
  {
   "cell_type": "markdown",
   "metadata": {
    "execution": {
     "iopub.execute_input": "2022-08-23T17:10:30.008632Z",
     "iopub.status.busy": "2022-08-23T17:10:30.008101Z",
     "iopub.status.idle": "2022-08-23T17:10:30.019633Z",
     "shell.execute_reply": "2022-08-23T17:10:30.016962Z",
     "shell.execute_reply.started": "2022-08-23T17:10:30.008597Z"
    }
   },
   "source": [
    "* Denial of Services (DoS)\n",
    "* Probe\n",
    "* User to Root(U2R)\n",
    "* Remote to Local (R2L)"
   ]
  },
  {
   "cell_type": "code",
   "execution_count": 24,
   "metadata": {
    "execution": {
     "iopub.execute_input": "2022-08-23T17:11:59.999710Z",
     "iopub.status.busy": "2022-08-23T17:11:59.997541Z",
     "iopub.status.idle": "2022-08-23T17:12:00.013887Z",
     "shell.execute_reply": "2022-08-23T17:12:00.012751Z",
     "shell.execute_reply.started": "2022-08-23T17:11:59.999646Z"
    }
   },
   "outputs": [],
   "source": [
    "def change_label(df):\n",
    "    df.label.replace(['apache2','back','land','neptune','mailbomb','pod','processtable','smurf','teardrop','udpstorm','worm'],'Dos',inplace=True)\n",
    "    df.label.replace(['ftp_write','guess_passwd','httptunnel','imap','multihop','named','phf','sendmail','snmpgetattack','snmpguess','spy','warezclient','warezmaster','xlock','xsnoop'],'R2L',inplace=True)      \n",
    "    df.label.replace(['ipsweep','mscan','nmap','portsweep','saint','satan'],'Probe',inplace=True)\n",
    "    df.label.replace(['buffer_overflow','loadmodule','perl','ps','rootkit','sqlattack','xterm'],'U2R',inplace=True)"
   ]
  },
  {
   "cell_type": "code",
   "execution_count": 25,
   "metadata": {
    "execution": {
     "iopub.execute_input": "2022-08-23T17:12:08.093310Z",
     "iopub.status.busy": "2022-08-23T17:12:08.092280Z",
     "iopub.status.idle": "2022-08-23T17:12:08.283200Z",
     "shell.execute_reply": "2022-08-23T17:12:08.281539Z",
     "shell.execute_reply.started": "2022-08-23T17:12:08.093252Z"
    }
   },
   "outputs": [],
   "source": [
    "change_label(train_data)"
   ]
  },
  {
   "cell_type": "code",
   "execution_count": 26,
   "metadata": {
    "execution": {
     "iopub.execute_input": "2022-08-23T17:12:14.414112Z",
     "iopub.status.busy": "2022-08-23T17:12:14.413287Z",
     "iopub.status.idle": "2022-08-23T17:12:14.433344Z",
     "shell.execute_reply": "2022-08-23T17:12:14.432154Z",
     "shell.execute_reply.started": "2022-08-23T17:12:14.414062Z"
    }
   },
   "outputs": [],
   "source": [
    "# distribution of attack classes\n",
    "train_data.label.value_counts()"
   ]
  },
  {
   "cell_type": "code",
   "execution_count": 27,
   "metadata": {
    "execution": {
     "iopub.execute_input": "2022-08-23T17:12:31.817672Z",
     "iopub.status.busy": "2022-08-23T17:12:31.816527Z",
     "iopub.status.idle": "2022-08-23T17:12:32.069464Z",
     "shell.execute_reply": "2022-08-23T17:12:32.067537Z",
     "shell.execute_reply.started": "2022-08-23T17:12:31.817631Z"
    }
   },
   "outputs": [],
   "source": [
    "train_data['label'].value_counts().plot(kind=\"bar\")"
   ]
  },
  {
   "cell_type": "markdown",
   "metadata": {},
   "source": [
    "* Protocol Type"
   ]
  },
  {
   "cell_type": "code",
   "execution_count": 28,
   "metadata": {
    "execution": {
     "iopub.execute_input": "2022-08-23T17:13:03.960737Z",
     "iopub.status.busy": "2022-08-23T17:13:03.960235Z",
     "iopub.status.idle": "2022-08-23T17:13:04.182663Z",
     "shell.execute_reply": "2022-08-23T17:13:04.181669Z",
     "shell.execute_reply.started": "2022-08-23T17:13:03.960699Z"
    }
   },
   "outputs": [],
   "source": [
    "train_data['protocol_type'].value_counts().plot(kind=\"bar\")"
   ]
  },
  {
   "cell_type": "markdown",
   "metadata": {},
   "source": [
    "* Services"
   ]
  },
  {
   "cell_type": "code",
   "execution_count": 30,
   "metadata": {
    "execution": {
     "iopub.execute_input": "2022-08-23T17:14:36.622372Z",
     "iopub.status.busy": "2022-08-23T17:14:36.621074Z",
     "iopub.status.idle": "2022-08-23T17:14:36.639229Z",
     "shell.execute_reply": "2022-08-23T17:14:36.638329Z",
     "shell.execute_reply.started": "2022-08-23T17:14:36.622323Z"
    }
   },
   "outputs": [],
   "source": [
    "services_frequency = train_data['service'].value_counts()\n",
    "subsetServices= list(services_frequency[:30].index)\n",
    "print(services_frequency)"
   ]
  },
  {
   "cell_type": "markdown",
   "metadata": {},
   "source": [
    "* Duration"
   ]
  },
  {
   "cell_type": "code",
   "execution_count": 32,
   "metadata": {
    "execution": {
     "iopub.execute_input": "2022-08-23T17:15:43.312006Z",
     "iopub.status.busy": "2022-08-23T17:15:43.311478Z",
     "iopub.status.idle": "2022-08-23T17:15:44.157271Z",
     "shell.execute_reply": "2022-08-23T17:15:44.155973Z",
     "shell.execute_reply.started": "2022-08-23T17:15:43.311967Z"
    }
   },
   "outputs": [],
   "source": [
    "df = train_data['duration']\n",
    "df = pd.DataFrame(df)\n",
    "data_feature = df.columns\n",
    "\n",
    "for feature in data_feature:\n",
    "    p = sns.distplot(a = df[feature])\n",
    "    plt.show()"
   ]
  },
  {
   "cell_type": "markdown",
   "metadata": {},
   "source": [
    "* Duration_bin"
   ]
  },
  {
   "cell_type": "code",
   "execution_count": 34,
   "metadata": {
    "execution": {
     "iopub.execute_input": "2022-08-23T17:17:36.597670Z",
     "iopub.status.busy": "2022-08-23T17:17:36.597052Z",
     "iopub.status.idle": "2022-08-23T17:17:36.623519Z",
     "shell.execute_reply": "2022-08-23T17:17:36.622595Z",
     "shell.execute_reply.started": "2022-08-23T17:17:36.597627Z"
    }
   },
   "outputs": [],
   "source": [
    "df['duration_bin']=pd.cut(df['duration'], bins=[-0.1, 0 , 10000, 20000, 30000, 40000], labels=[\"0\", \" (0, 10000]\", \"(10000, 20000]\",\"(20000, 30000]\", \"(30000, 40000]\"])\n",
    "df"
   ]
  },
  {
   "cell_type": "code",
   "execution_count": 35,
   "metadata": {
    "execution": {
     "iopub.execute_input": "2022-08-23T17:17:40.457198Z",
     "iopub.status.busy": "2022-08-23T17:17:40.455948Z",
     "iopub.status.idle": "2022-08-23T17:17:40.468683Z",
     "shell.execute_reply": "2022-08-23T17:17:40.467392Z",
     "shell.execute_reply.started": "2022-08-23T17:17:40.457153Z"
    }
   },
   "outputs": [],
   "source": [
    "duration_frequency = df['duration_bin'].value_counts()\n",
    "#subsetServices= list(duration_frequency[:].index)\n",
    "duration_frequency"
   ]
  },
  {
   "cell_type": "code",
   "execution_count": 36,
   "metadata": {
    "execution": {
     "iopub.execute_input": "2022-08-23T17:17:52.600700Z",
     "iopub.status.busy": "2022-08-23T17:17:52.599781Z",
     "iopub.status.idle": "2022-08-23T17:17:52.841165Z",
     "shell.execute_reply": "2022-08-23T17:17:52.839930Z",
     "shell.execute_reply.started": "2022-08-23T17:17:52.600657Z"
    }
   },
   "outputs": [],
   "source": [
    "f, ax = plt.subplots(figsize=(15,10)) # set the size that you'd like (width, height)\n",
    "plt.bar(duration_frequency.index, duration_frequency, label = 'Duration frequency')\n",
    "ax.legend(fontsize = 20)"
   ]
  },
  {
   "cell_type": "markdown",
   "metadata": {},
   "source": [
    "* flag"
   ]
  },
  {
   "cell_type": "code",
   "execution_count": 37,
   "metadata": {
    "execution": {
     "iopub.execute_input": "2022-08-23T17:19:56.985076Z",
     "iopub.status.busy": "2022-08-23T17:19:56.984521Z",
     "iopub.status.idle": "2022-08-23T17:19:57.182046Z",
     "shell.execute_reply": "2022-08-23T17:19:57.180911Z",
     "shell.execute_reply.started": "2022-08-23T17:19:56.985035Z"
    }
   },
   "outputs": [],
   "source": [
    "train_data['flag'].value_counts().plot(kind=\"bar\")"
   ]
  },
  {
   "cell_type": "markdown",
   "metadata": {},
   "source": [
    "# Data Prepration\n",
    "* For Binary and Multi-class Classification\n",
    "* Label encoding with"
   ]
  },
  {
   "cell_type": "code",
   "execution_count": 39,
   "metadata": {
    "execution": {
     "iopub.execute_input": "2022-08-23T17:42:58.564902Z",
     "iopub.status.busy": "2022-08-23T17:42:58.564450Z",
     "iopub.status.idle": "2022-08-23T17:42:58.590535Z",
     "shell.execute_reply": "2022-08-23T17:42:58.589237Z",
     "shell.execute_reply.started": "2022-08-23T17:42:58.564852Z"
    }
   },
   "outputs": [],
   "source": [
    "train_data.head(2)"
   ]
  },
  {
   "cell_type": "code",
   "execution_count": 40,
   "metadata": {
    "execution": {
     "iopub.execute_input": "2022-08-23T17:43:11.153015Z",
     "iopub.status.busy": "2022-08-23T17:43:11.152073Z",
     "iopub.status.idle": "2022-08-23T17:43:11.185172Z",
     "shell.execute_reply": "2022-08-23T17:43:11.184283Z",
     "shell.execute_reply.started": "2022-08-23T17:43:11.152957Z"
    }
   },
   "outputs": [],
   "source": [
    "# changing attack labels into two categories 'normal' and 'abnormal'\n",
    "bin_label = pd.DataFrame(train_data.label.map(lambda x:'normal' if x=='normal' else 'abnormal'))"
   ]
  },
  {
   "cell_type": "code",
   "execution_count": 42,
   "metadata": {
    "execution": {
     "iopub.execute_input": "2022-08-23T17:43:36.849209Z",
     "iopub.status.busy": "2022-08-23T17:43:36.848740Z",
     "iopub.status.idle": "2022-08-23T17:43:36.886704Z",
     "shell.execute_reply": "2022-08-23T17:43:36.885476Z",
     "shell.execute_reply.started": "2022-08-23T17:43:36.849172Z"
    }
   },
   "outputs": [],
   "source": [
    "# creating a dataframe with binary labels (normal,abnormal)\n",
    "bin_data = train_data.copy()\n",
    "bin_data['label'] = bin_label\n",
    "bin_data.head(2)"
   ]
  },
  {
   "cell_type": "code",
   "execution_count": 44,
   "metadata": {
    "execution": {
     "iopub.execute_input": "2022-08-23T17:44:25.773060Z",
     "iopub.status.busy": "2022-08-23T17:44:25.772612Z",
     "iopub.status.idle": "2022-08-23T17:44:25.845725Z",
     "shell.execute_reply": "2022-08-23T17:44:25.844423Z",
     "shell.execute_reply.started": "2022-08-23T17:44:25.773024Z"
    }
   },
   "outputs": [],
   "source": [
    "# label encoding (0,1) binary labels (abnormal,normal)\n",
    "le1 = preprocessing.LabelEncoder()\n",
    "enc_label = bin_label.apply(le1.fit_transform)\n",
    "bin_data['intrusion'] = enc_label\n",
    "bin_data"
   ]
  },
  {
   "cell_type": "code",
   "execution_count": 45,
   "metadata": {
    "execution": {
     "iopub.execute_input": "2022-08-23T17:44:28.758399Z",
     "iopub.status.busy": "2022-08-23T17:44:28.757929Z",
     "iopub.status.idle": "2022-08-23T17:44:28.943664Z",
     "shell.execute_reply": "2022-08-23T17:44:28.942291Z",
     "shell.execute_reply.started": "2022-08-23T17:44:28.758362Z"
    }
   },
   "outputs": [],
   "source": [
    "# one-hot-encoding attack label\n",
    "#numeric_bin_data = pd.get_dummies(bin_data,columns=['label'],prefix=\"\",prefix_sep=\"\") \n",
    "bin_data = pd.get_dummies(train_data,columns=['protocol_type','service','flag'],prefix=\"\",prefix_sep=\"\") \n",
    "#bin_data['label'] = bin_label\n",
    "bin_data['intrusion'] =enc_label\n",
    "\n",
    "bin_data"
   ]
  },
  {
   "cell_type": "code",
   "execution_count": 46,
   "metadata": {
    "execution": {
     "iopub.execute_input": "2022-08-23T17:44:58.279360Z",
     "iopub.status.busy": "2022-08-23T17:44:58.278815Z",
     "iopub.status.idle": "2022-08-23T17:44:58.537353Z",
     "shell.execute_reply": "2022-08-23T17:44:58.535136Z",
     "shell.execute_reply.started": "2022-08-23T17:44:58.279325Z"
    }
   },
   "outputs": [],
   "source": [
    "# pie chart distribution of normal and abnormal labels\n",
    "plt.figure(figsize=(8,8))\n",
    "plt.pie(bin_data.label.value_counts(),labels=bin_data.label.unique(),autopct='%0.2f%%')\n",
    "plt.title(\"Pie chart distribution of normal and abnormal labels\")\n",
    "plt.legend()\n",
    "plt.show()"
   ]
  },
  {
   "cell_type": "code",
   "execution_count": 48,
   "metadata": {
    "execution": {
     "iopub.execute_input": "2022-08-23T17:45:37.058783Z",
     "iopub.status.busy": "2022-08-23T17:45:37.057395Z",
     "iopub.status.idle": "2022-08-23T17:45:37.149963Z",
     "shell.execute_reply": "2022-08-23T17:45:37.148653Z",
     "shell.execute_reply.started": "2022-08-23T17:45:37.058725Z"
    }
   },
   "outputs": [],
   "source": [
    "#bin_data_train is dataset that is ready for modeling ... X=bin_data_train[:,:122] / y=bin_data_train[:,:-1]\n",
    "bin_data_train = bin_data.copy()\n",
    "bin_data_train.drop(labels= [ 'label'], axis=1, inplace=True)\n",
    "bin_data_train.head(2)"
   ]
  },
  {
   "cell_type": "code",
   "execution_count": 50,
   "metadata": {
    "execution": {
     "iopub.execute_input": "2022-08-23T17:47:23.432088Z",
     "iopub.status.busy": "2022-08-23T17:47:23.431202Z",
     "iopub.status.idle": "2022-08-23T17:47:23.478504Z",
     "shell.execute_reply": "2022-08-23T17:47:23.477075Z",
     "shell.execute_reply.started": "2022-08-23T17:47:23.432033Z"
    }
   },
   "outputs": [],
   "source": [
    "# creating a dataframe with only numeric attributes of binary class dataset and encoded label attribute \n",
    "numeric_col = train_data.select_dtypes(include='number').columns\n",
    "numeric_bin_data = train_data[numeric_col]\n",
    "numeric_bin_data['intrusion'] = bin_data['intrusion']"
   ]
  },
  {
   "cell_type": "code",
   "execution_count": 51,
   "metadata": {
    "execution": {
     "iopub.execute_input": "2022-08-23T17:47:57.259119Z",
     "iopub.status.busy": "2022-08-23T17:47:57.258466Z",
     "iopub.status.idle": "2022-08-23T17:47:57.320208Z",
     "shell.execute_reply": "2022-08-23T17:47:57.318482Z",
     "shell.execute_reply.started": "2022-08-23T17:47:57.259064Z"
    }
   },
   "outputs": [],
   "source": [
    "numeric_bin_data"
   ]
  },
  {
   "cell_type": "markdown",
   "metadata": {},
   "source": [
    "# Feature Selection"
   ]
  },
  {
   "cell_type": "code",
   "execution_count": 52,
   "metadata": {
    "execution": {
     "iopub.execute_input": "2022-08-23T17:52:18.374560Z",
     "iopub.status.busy": "2022-08-23T17:52:18.374020Z",
     "iopub.status.idle": "2022-08-23T17:52:18.431821Z",
     "shell.execute_reply": "2022-08-23T17:52:18.430575Z",
     "shell.execute_reply.started": "2022-08-23T17:52:18.374521Z"
    }
   },
   "outputs": [],
   "source": [
    "#num_dataset_bin is just include numeric features with binary labels\n",
    "num_dataset_bin = numeric_bin_data.copy()\n",
    "y_train_num_bin= num_dataset_bin[['intrusion']]\n",
    "X_train_num_bin= num_dataset_bin.drop(labels=['intrusion'], axis=1)\n",
    "\n",
    "print('X_train has shape:',X_train_num_bin.shape,'\\ny_train has shape:',y_train_num_bin.shape)"
   ]
  },
  {
   "cell_type": "code",
   "execution_count": 55,
   "metadata": {
    "execution": {
     "iopub.execute_input": "2022-08-23T17:56:47.166141Z",
     "iopub.status.busy": "2022-08-23T17:56:47.165593Z",
     "iopub.status.idle": "2022-08-23T17:56:47.210014Z",
     "shell.execute_reply": "2022-08-23T17:56:47.208504Z",
     "shell.execute_reply.started": "2022-08-23T17:56:47.166101Z"
    }
   },
   "outputs": [],
   "source": [
    "multi_data = train_data.copy()\n",
    "multi_label = pd.DataFrame(multi_data.label)\n",
    "multi_label"
   ]
  },
  {
   "cell_type": "code",
   "execution_count": 70,
   "metadata": {
    "execution": {
     "iopub.execute_input": "2022-08-23T18:13:39.456268Z",
     "iopub.status.busy": "2022-08-23T18:13:39.455789Z",
     "iopub.status.idle": "2022-08-23T18:13:39.485149Z",
     "shell.execute_reply": "2022-08-23T18:13:39.484115Z",
     "shell.execute_reply.started": "2022-08-23T18:13:39.456232Z"
    }
   },
   "outputs": [],
   "source": [
    "xtraindf = X_train_num_bin.copy()\n",
    "multi_label.info()"
   ]
  },
  {
   "cell_type": "code",
   "execution_count": 80,
   "metadata": {
    "execution": {
     "iopub.execute_input": "2022-08-23T18:18:21.418441Z",
     "iopub.status.busy": "2022-08-23T18:18:21.417666Z",
     "iopub.status.idle": "2022-08-23T18:18:21.501505Z",
     "shell.execute_reply": "2022-08-23T18:18:21.500159Z",
     "shell.execute_reply.started": "2022-08-23T18:18:21.418401Z"
    }
   },
   "outputs": [],
   "source": [
    "print(np.unique(multi_label))"
   ]
  },
  {
   "cell_type": "code",
   "execution_count": 72,
   "metadata": {
    "execution": {
     "iopub.execute_input": "2022-08-23T18:15:00.002056Z",
     "iopub.status.busy": "2022-08-23T18:15:00.001223Z",
     "iopub.status.idle": "2022-08-23T18:15:00.058706Z",
     "shell.execute_reply": "2022-08-23T18:15:00.057452Z",
     "shell.execute_reply.started": "2022-08-23T18:15:00.002014Z"
    }
   },
   "outputs": [],
   "source": [
    "train_X, test_X, train_y, test_y = train_test_split(xtraindf, multi_label, test_size = 0.33, random_state = 1)"
   ]
  },
  {
   "cell_type": "code",
   "execution_count": 73,
   "metadata": {
    "execution": {
     "iopub.execute_input": "2022-08-23T18:15:02.898484Z",
     "iopub.status.busy": "2022-08-23T18:15:02.898053Z",
     "iopub.status.idle": "2022-08-23T18:15:02.943316Z",
     "shell.execute_reply": "2022-08-23T18:15:02.942163Z",
     "shell.execute_reply.started": "2022-08-23T18:15:02.898447Z"
    }
   },
   "outputs": [],
   "source": [
    "from sklearn.preprocessing import LabelEncoder\n",
    "\n",
    "labelencoder_train_y = LabelEncoder()\n",
    "train_y = labelencoder_train_y.fit_transform(train_y)\n",
    "\n",
    "labelencoder_test_y = LabelEncoder()\n",
    "test_y = labelencoder_test_y.fit_transform(test_y)"
   ]
  },
  {
   "cell_type": "code",
   "execution_count": 78,
   "metadata": {
    "execution": {
     "iopub.execute_input": "2022-08-23T18:17:20.639195Z",
     "iopub.status.busy": "2022-08-23T18:17:20.638693Z",
     "iopub.status.idle": "2022-08-23T18:17:20.648387Z",
     "shell.execute_reply": "2022-08-23T18:17:20.646964Z",
     "shell.execute_reply.started": "2022-08-23T18:17:20.639155Z"
    }
   },
   "outputs": [],
   "source": [
    "print(np.unique(train_y))  # ['Dos' 'Probe' 'R2L' 'U2R' 'normal']"
   ]
  },
  {
   "cell_type": "code",
   "execution_count": 81,
   "metadata": {
    "execution": {
     "iopub.execute_input": "2022-08-23T18:18:47.388548Z",
     "iopub.status.busy": "2022-08-23T18:18:47.388025Z",
     "iopub.status.idle": "2022-08-23T18:18:47.501094Z",
     "shell.execute_reply": "2022-08-23T18:18:47.499928Z",
     "shell.execute_reply.started": "2022-08-23T18:18:47.388510Z"
    }
   },
   "outputs": [],
   "source": [
    "# Feature Scaling of train_X & test_X\n",
    "\n",
    "from sklearn.preprocessing import StandardScaler\n",
    "sc = StandardScaler()\n",
    "train_X = sc.fit_transform(train_X)\n",
    "test_X = sc.fit_transform(test_X)"
   ]
  },
  {
   "cell_type": "markdown",
   "metadata": {},
   "source": [
    "# Apply Principal Component Analysis"
   ]
  },
  {
   "cell_type": "code",
   "execution_count": 82,
   "metadata": {
    "execution": {
     "iopub.execute_input": "2022-08-23T18:19:18.845293Z",
     "iopub.status.busy": "2022-08-23T18:19:18.844852Z",
     "iopub.status.idle": "2022-08-23T18:19:19.929501Z",
     "shell.execute_reply": "2022-08-23T18:19:19.928435Z",
     "shell.execute_reply.started": "2022-08-23T18:19:18.845260Z"
    }
   },
   "outputs": [],
   "source": [
    "# Applying PCA on Train set\n",
    "\n",
    "from sklearn.decomposition import PCA\n",
    "pca = PCA(n_components = 21)\n",
    "data = pca.fit_transform(train_X)\n",
    "trainp_X = pd.DataFrame(data, columns = ['1','2','3','4','5','6','7','8','9','10','11','12','13','14','15','16','17','18','19','20','21'])"
   ]
  },
  {
   "cell_type": "code",
   "execution_count": 83,
   "metadata": {
    "execution": {
     "iopub.execute_input": "2022-08-23T18:19:27.087229Z",
     "iopub.status.busy": "2022-08-23T18:19:27.086555Z",
     "iopub.status.idle": "2022-08-23T18:19:27.592673Z",
     "shell.execute_reply": "2022-08-23T18:19:27.591015Z",
     "shell.execute_reply.started": "2022-08-23T18:19:27.087191Z"
    }
   },
   "outputs": [],
   "source": [
    "# Applying PCA on Test set\n",
    "\n",
    "from sklearn.decomposition import PCA\n",
    "pca = PCA(n_components = 21)\n",
    "data = pca.fit_transform(test_X)\n",
    "testp_X = pd.DataFrame(data, columns = ['1','2','3','4','5','6','7','8','9','10','11','12','13','14','15','16','17','18','19','20','21'])"
   ]
  },
  {
   "cell_type": "markdown",
   "metadata": {},
   "source": [
    "# Apply Machine Learning Model"
   ]
  },
  {
   "cell_type": "code",
   "execution_count": 84,
   "metadata": {
    "execution": {
     "iopub.execute_input": "2022-08-23T18:20:48.072936Z",
     "iopub.status.busy": "2022-08-23T18:20:48.072390Z",
     "iopub.status.idle": "2022-08-23T18:23:18.752991Z",
     "shell.execute_reply": "2022-08-23T18:23:18.751174Z",
     "shell.execute_reply.started": "2022-08-23T18:20:48.072893Z"
    }
   },
   "outputs": [],
   "source": [
    "# Fitting SVM to the Training set\n",
    "\n",
    "from sklearn.svm import SVC\n",
    "classifier = SVC(kernel = 'linear', random_state = 0)\n",
    "classifier.fit(trainp_X, train_y)"
   ]
  },
  {
   "cell_type": "code",
   "execution_count": 85,
   "metadata": {
    "execution": {
     "iopub.execute_input": "2022-08-23T18:23:18.756944Z",
     "iopub.status.busy": "2022-08-23T18:23:18.756421Z",
     "iopub.status.idle": "2022-08-23T18:23:35.718561Z",
     "shell.execute_reply": "2022-08-23T18:23:35.716901Z",
     "shell.execute_reply.started": "2022-08-23T18:23:18.756897Z"
    }
   },
   "outputs": [],
   "source": [
    "# Predicting the Test set results\n",
    "\n",
    "y_pred = classifier.predict(testp_X)"
   ]
  },
  {
   "cell_type": "code",
   "execution_count": 86,
   "metadata": {
    "execution": {
     "iopub.execute_input": "2022-08-23T18:23:35.721247Z",
     "iopub.status.busy": "2022-08-23T18:23:35.720738Z",
     "iopub.status.idle": "2022-08-23T18:23:35.746072Z",
     "shell.execute_reply": "2022-08-23T18:23:35.744649Z",
     "shell.execute_reply.started": "2022-08-23T18:23:35.721200Z"
    }
   },
   "outputs": [],
   "source": [
    "#%%\n",
    "\n",
    "from sklearn.metrics import confusion_matrix\n",
    "cm = confusion_matrix(test_y, y_pred)\n",
    "precison = ( cm[0][0]) / ( cm[0][0] + cm[0][1])\n",
    "print(\"Precison : \", precison)\n",
    "accuracy = (cm[0][0] + cm[1][1]) / (cm[0][0] + cm[0][1] + cm[1][0] + cm[1][1])\n",
    "print(\"Accuracy : \", accuracy)\n",
    "false_positive_rate = (cm[0][1]) / (cm[0][0] + cm[0][1])\n",
    "print(\"FPR : \", false_positive_rate)\n",
    "false_negative_rate = (cm[1][0]) /(cm[1][0]+cm[0][0])\n",
    "print(\"FNR : \", false_negative_rate)\n",
    "error = (cm[0][1] + cm[1][0]) / (cm[0][0] + cm[0][1] + cm[1][0] + cm[1][1])\n",
    "print(\"Error rate : \", error)\n",
    "true_positive_rate = (cm[1][1]) / (cm[1][0] + cm[1][1])\n",
    "print(\"TPR : \", true_positive_rate)"
   ]
  },
  {
   "cell_type": "code",
   "execution_count": null,
   "metadata": {},
   "outputs": [],
   "source": []
  }
 ],
 "metadata": {
  "kernelspec": {
   "display_name": "Python 3 (ipykernel)",
   "language": "python",
   "name": "python3"
  },
  "language_info": {
   "codemirror_mode": {
    "name": "ipython",
    "version": 3
   },
   "file_extension": ".py",
   "mimetype": "text/x-python",
   "name": "python",
   "nbconvert_exporter": "python",
   "pygments_lexer": "ipython3",
   "version": "3.10.2"
  }
 },
 "nbformat": 4,
 "nbformat_minor": 4
}
